{
 "cells": [
  {
   "cell_type": "markdown",
   "metadata": {},
   "source": [
    "# Transitions dans le spectre de l'hydrogène"
   ]
  },
  {
   "cell_type": "markdown",
   "metadata": {},
   "source": [
    "La longueur d'onde d'émission d'un atome d'hydrogène, lors de la transition du niveau n vers le niveau m ($n>m$) du spectre, peut être calculée grâce à la formule de Rydberg :\n",
    "\\begin{equation*}\n",
    "    \\dfrac{1}{\\lambda} = R \\left( \\dfrac{1}{m^2} - \\dfrac{1}{n^2} \\right)\n",
    "\\end{equation*}\n",
    "où $R = 1.097 \\times 10^{-2} \\text{m}^{-1}$ est la constante de Rydberg."
   ]
  },
  {
   "cell_type": "markdown",
   "metadata": {},
   "source": [
    "## Exercice\n",
    "\n",
    "Déterminer les longueurs d'ondes des transitions vers les niveaux d'énergie $m=1, 2, "
   ]
  },
  {
   "cell_type": "code",
   "execution_count": 8,
   "metadata": {
    "collapsed": false
   },
   "outputs": [
    {
     "name": "stdout",
     "output_type": "stream",
     "text": [
      "Longueurs d'onde pour m = 1\n",
      "\t λ = 97.23488301428137 nm, domaine UV\n",
      "\t λ = 94.95594044363415 nm, domaine UV\n",
      "\t λ = 93.76220862091418 nm, domaine UV\n",
      "\t λ = 93.05682163476148 nm, domaine UV\n",
      "\t λ = 92.60465048979178 nm, domaine UV\n",
      "\t λ = 92.2971741112124 nm, domaine UV\n",
      "Longueurs d'onde pour m = 2\n",
      "\t λ = 486.1744150714068 nm, domaine Visible\n",
      "\t λ = 434.084299170899 nm, domaine Visible\n",
      "\t λ = 410.2096627164995 nm, domaine Visible\n",
      "\t λ = 397.04243897498225 nm, domaine Visible\n",
      "\t λ = 388.93953205712546 nm, domaine Visible\n",
      "\t λ = 383.57267163101255 nm, domaine Visible\n",
      "Longueurs d'onde pour m = 3\n",
      "\t λ = 1875.2441724182836 nm, domaine IR\n",
      "\t λ = 1281.9051959890612 nm, domaine IR\n",
      "\t λ = 1093.8924339106654 nm, domaine IR\n",
      "\t λ = 1005.013673655424 nm, domaine IR\n",
      "\t λ = 954.6697605038536 nm, domaine IR\n",
      "\t λ = 922.971741112124 nm, domaine IR\n"
     ]
    }
   ],
   "source": [
    "R = 1.097e-2\n",
    "limites_visible = (380, 780)\n",
    "nbre_etats_m = 3\n",
    "nbre_etats_n = 6\n",
    "\n",
    "for m in range(1, nbre_etats_m + 1):\n",
    "    print(\"Longueurs d'onde pour m = {}\".format(m))\n",
    "    \n",
    "    for n in range(nbre_etats_m + 1, nbre_etats_m + nbre_etats_n + 1):\n",
    "        inv_lambda = R * (1 / m**2 - 1 / n**2)\n",
    "        val_lambda = 1 / inv_lambda\n",
    "        \n",
    "        if val_lambda < limites_visible[0]:\n",
    "            domaine = \"UV\"\n",
    "        elif val_lambda > limites_visible[1]:\n",
    "            domaine = \"IR\"\n",
    "        else:\n",
    "            domaine = \"Visible\"\n",
    "        \n",
    "        chaine = \"\\t λ = {} nm, domaine : {}\".format(val_lambda, domaine)\n",
    "        print(chaine)"
   ]
  },
  {
   "cell_type": "code",
   "execution_count": null,
   "metadata": {
    "collapsed": true
   },
   "outputs": [],
   "source": []
  }
 ],
 "metadata": {
  "anaconda-cloud": {},
  "kernelspec": {
   "display_name": "Python [conda root]",
   "language": "python",
   "name": "conda-root-py"
  },
  "language_info": {
   "codemirror_mode": {
    "name": "ipython",
    "version": 3
   },
   "file_extension": ".py",
   "mimetype": "text/x-python",
   "name": "python",
   "nbconvert_exporter": "python",
   "pygments_lexer": "ipython3",
   "version": "3.5.2"
  },
  "toc": {
   "nav_menu": {
    "height": "30px",
    "width": "252px"
   },
   "navigate_menu": true,
   "number_sections": true,
   "sideBar": true,
   "threshold": 4,
   "toc_cell": false,
   "toc_section_display": "block",
   "toc_window_display": false
  }
 },
 "nbformat": 4,
 "nbformat_minor": 1
}
