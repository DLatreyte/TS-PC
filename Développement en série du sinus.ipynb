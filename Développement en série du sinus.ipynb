{
 "cells": [
  {
   "cell_type": "markdown",
   "metadata": {},
   "source": [
    "## Développement en série de la fonction sinus\n",
    "\n",
    "En mathématique, une **série numérique** est définie par sommation à partir d'une suite numérique. On peut se servir de série numériques pour approximer la valeur de fonctions en un point de leur ensemble de définition.\n",
    "\n",
    "On peut ainsi évaluer numériquement la fonction *sinus* en un point $x$ de son domaine de définition à partir du développement en série suivant :\n",
    "\n",
    "\\[\n",
    "\\sin(x) = \\sum_{n=0}^{\\infty}\n",
    "\\]"
   ]
  },
  {
   "cell_type": "code",
   "execution_count": 11,
   "metadata": {
    "collapsed": false
   },
   "outputs": [
    {
     "name": "stdout",
     "output_type": "stream",
     "text": [
      "0.9999999999932534\n"
     ]
    }
   ],
   "source": [
    "N = 60\n",
    "sinus = 0\n",
    "x = 3.1416 / 2\n",
    "\n",
    "n = 0\n",
    "while True:\n",
    "    fact = 1\n",
    "    for i in range(1, 2*n+2):\n",
    "        fact *= i\n",
    "    sinus += (-1)**n * x**(2 * n + 1) / fact\n",
    "    if n == N:\n",
    "        break\n",
    "    else:\n",
    "        n += 1\n",
    "        \n",
    "print(sinus)"
   ]
  },
  {
   "cell_type": "code",
   "execution_count": 2,
   "metadata": {
    "collapsed": false
   },
   "outputs": [
    {
     "name": "stdout",
     "output_type": "stream",
     "text": [
      "1.0\n"
     ]
    }
   ],
   "source": [
    "import math as m\n",
    "sinus_bis = m.sin(m.pi / 2)\n",
    "print(sinus_bis)"
   ]
  },
  {
   "cell_type": "code",
   "execution_count": null,
   "metadata": {
    "collapsed": true
   },
   "outputs": [],
   "source": []
  }
 ],
 "metadata": {
  "anaconda-cloud": {},
  "kernelspec": {
   "display_name": "Python [conda root]",
   "language": "python",
   "name": "conda-root-py"
  },
  "language_info": {
   "codemirror_mode": {
    "name": "ipython",
    "version": 3
   },
   "file_extension": ".py",
   "mimetype": "text/x-python",
   "name": "python",
   "nbconvert_exporter": "python",
   "pygments_lexer": "ipython3",
   "version": "3.5.2"
  },
  "toc": {
   "nav_menu": {
    "height": "30px",
    "width": "252px"
   },
   "navigate_menu": true,
   "number_sections": true,
   "sideBar": true,
   "threshold": 4,
   "toc_cell": false,
   "toc_section_display": "block",
   "toc_window_display": false
  }
 },
 "nbformat": 4,
 "nbformat_minor": 1
}
