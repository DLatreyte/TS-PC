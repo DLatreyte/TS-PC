{
 "cells": [
  {
   "cell_type": "markdown",
   "metadata": {},
   "source": [
    "# Transitions dans le spectre de l'hydrogène"
   ]
  },
  {
   "cell_type": "markdown",
   "metadata": {},
   "source": [
    "La longueur d'onde d'émission d'un atome d'hydrogène, lors de la transition du niveau excité n vers le niveau m ($n>m$) du spectre, peut être calculée grâce à la [formule de Rydberg](https://fr.wikipedia.org/wiki/Formule_de_Rydberg) :\n",
    "$$\n",
    "    \\dfrac{1}{\\lambda} = R \\left( \\dfrac{1}{m^2} - \\dfrac{1}{n^2} \\right)\n",
    "$$\n",
    "où $R = 1,0973731568508 \\times 10^{7} \\text{m}^{-1}$ est la constante de [Rydberg](https://fr.wikipedia.org/wiki/Constante_de_Rydberg)."
   ]
  },
  {
   "cell_type": "markdown",
   "metadata": {},
   "source": [
    "## Projet\n",
    "\n",
    "Déterminer les longueurs d'onde de transitions vers les niveaux d'énergie $m=1, 2, 3, 4$ (soit les séries de *Lyman*, *Balmer*, *Paschen* et *Brackett*) en précisant si elles se situent dans le domaine du visible, de l'UV ou des IR. \n",
    "\n",
    "Pour chacune des situations, calculer 8 longueurs d'onde.\n",
    "\n",
    "Domaine du visible : $[380\\times 10^{-9}, 780\\times 10^{-9}]$ m."
   ]
  },
  {
   "cell_type": "markdown",
   "metadata": {},
   "source": [
    "### Extension possible\n",
    "\n",
    "Si les longueurs d'onde sont dans le visible, donner une idée de la couleur du rayonnement. Utiliser le tableau fourni à [cette page](https://fr.wikipedia.org/wiki/Spectre_visible).\n",
    "\n",
    "Cette partie nécessite l'utilisation d'un dictionnaire de listes si l'on ne veut pas rendre son code interminable."
   ]
  },
  {
   "cell_type": "code",
   "execution_count": 17,
   "metadata": {
    "collapsed": false,
    "slideshow": {
     "slide_type": "-"
    }
   },
   "outputs": [
    {
     "name": "stdout",
     "output_type": "stream",
     "text": [
      "\n",
      "Longueurs d'onde des radiations vers le niveau fondamental m = 1\n",
      "\tλ = 1.215023e-07 m, domaine : UV\n",
      "\tλ = 1.025175e-07 m, domaine : UV\n",
      "\tλ = 9.720182e-08 m, domaine : UV\n",
      "\tλ = 9.492365e-08 m, domaine : UV\n",
      "\tλ = 9.373033e-08 m, domaine : UV\n",
      "\tλ = 9.302518e-08 m, domaine : UV\n",
      "\tλ = 9.257316e-08 m, domaine : UV\n",
      "\tλ = 9.226579e-08 m, domaine : UV\n",
      "\n",
      "Longueurs d'onde des radiations vers le niveau excité m = 2\n",
      "\tλ = 6.561123e-07 m, domaine : Visible, couleur : Rouge\n",
      "\tλ = 4.860091e-07 m, domaine : Visible, couleur : Bleu-vert\n",
      "\tλ = 4.339367e-07 m, domaine : Visible, couleur : Violet\n",
      "\tλ = 4.100702e-07 m, domaine : Visible, couleur : Violet\n",
      "\tλ = 3.969074e-07 m, domaine : Visible, couleur : Violet\n",
      "\tλ = 3.888073e-07 m, domaine : Visible, couleur : Violet\n",
      "\tλ = 3.834422e-07 m, domaine : Visible, couleur : Violet\n",
      "\tλ = 3.796946e-07 m, domaine : UV\n",
      "\n",
      "Longueurs d'onde des radiations vers le niveau excité m = 3\n",
      "\tλ = 1.874607e-06 m, domaine : IR\n",
      "\tλ = 1.281469e-06 m, domaine : IR\n",
      "\tλ = 1.093520e-06 m, domaine : IR\n",
      "\tλ = 1.004672e-06 m, domaine : IR\n",
      "\tλ = 9.543451e-07 m, domaine : IR\n",
      "\tλ = 9.226579e-07 m, domaine : IR\n",
      "\tλ = 9.012531e-07 m, domaine : IR\n",
      "\tλ = 8.860445e-07 m, domaine : IR\n",
      "\n",
      "Longueurs d'onde des radiations vers le niveau excité m = 4\n",
      "\tλ = 4.050076e-06 m, domaine : IR\n",
      "\tλ = 2.624449e-06 m, domaine : IR\n",
      "\tλ = 2.164950e-06 m, domaine : IR\n",
      "\tλ = 1.944036e-06 m, domaine : IR\n",
      "\tλ = 1.816926e-06 m, domaine : IR\n",
      "\tλ = 1.735747e-06 m, domaine : IR\n",
      "\tλ = 1.680203e-06 m, domaine : IR\n",
      "\tλ = 1.640281e-06 m, domaine : IR\n"
     ]
    }
   ],
   "source": [
    "R = 1.0973731568508e7\n",
    "\n",
    "nbre_etats_m = 4\n",
    "nbre_etats_n = 8\n",
    "\n",
    "limites_visible = (380e-9, 780e-9)\n",
    "couleurs = {\n",
    "    'Violet': [380e-9, 449e-9],\n",
    "    'Violet-bleu': [449e-9, 466e-9],\n",
    "    'Bleu-violet': [466e-9, 478e-9],\n",
    "    'Bleu': [478e-9, 483e-9],\n",
    "    'Bleu-vert': [483e-9, 490e-9],\n",
    "    'Vert-bleu': [490e-9, 510e-9],\n",
    "    'Vert': [510e-9, 541e-9],\n",
    "    'Vert-jaune': [541e-9, 573e-9],\n",
    "    'Jaune-vert': [573e-9, 575e-9],\n",
    "    'Jaune': [575e-9, 579e-9],\n",
    "    'Jaune-orangé': [579e-9, 584e-9],\n",
    "    'Orangé-Jaune': [584e-9, 588e-9],\n",
    "    'Orangé': [588e-9, 593e-9],\n",
    "    'Orangé-rouge': [593e-9, 605e-9],\n",
    "    'Rouge-orangé': [605e-9, 622e-9],\n",
    "    'Rouge': [622e-9, 780e-9]\n",
    "}\n",
    "\n",
    "for m in range(1, nbre_etats_m + 1):\n",
    "    if m == 1:\n",
    "        affichage = \"\\nLongueurs d'onde des radiations vers le niveau fondamental m = {}\".format(\n",
    "            m)\n",
    "    else:\n",
    "        affichage = \"\\nLongueurs d'onde des radiations vers le niveau excité m = {}\".format(\n",
    "            m)\n",
    "    print(affichage)\n",
    "\n",
    "    for n in range(m + 1, m + nbre_etats_n + 1):\n",
    "        inv_lambda = R * (1 / m**2 - 1 / n**2)\n",
    "        val_lambda = 1 / inv_lambda\n",
    "\n",
    "        if val_lambda < limites_visible[0]:\n",
    "            domaine = \"UV\"\n",
    "        elif val_lambda > limites_visible[1]:\n",
    "            domaine = \"IR\"\n",
    "        else:\n",
    "            domaine = \"Visible\"\n",
    "            for couleur in couleurs:\n",
    "                if val_lambda >= couleurs[couleur][0] and val_lambda < couleurs[couleur][1]:\n",
    "                    domaine += \", couleur : {}\".format(couleur)\n",
    "\n",
    "        chaine = \"\\tλ = {:e} m, domaine : {}\".format(val_lambda, domaine)\n",
    "        print(chaine)"
   ]
  },
  {
   "cell_type": "markdown",
   "metadata": {},
   "source": [
    "## Affichage possible"
   ]
  }
 ],
 "metadata": {
  "anaconda-cloud": {},
  "kernelspec": {
   "display_name": "Python [conda root]",
   "language": "python",
   "name": "conda-root-py"
  },
  "language_info": {
   "codemirror_mode": {
    "name": "ipython",
    "version": 3
   },
   "file_extension": ".py",
   "mimetype": "text/x-python",
   "name": "python",
   "nbconvert_exporter": "python",
   "pygments_lexer": "ipython3",
   "version": "3.5.2"
  },
  "toc": {
   "nav_menu": {
    "height": "82px",
    "width": "252px"
   },
   "navigate_menu": true,
   "number_sections": false,
   "sideBar": true,
   "threshold": 4,
   "toc_cell": false,
   "toc_section_display": "block",
   "toc_window_display": false
  }
 },
 "nbformat": 4,
 "nbformat_minor": 1
}
